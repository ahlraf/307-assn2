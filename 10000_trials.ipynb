{
  "cells": [
    {
      "cell_type": "markdown",
      "metadata": {
        "id": "view-in-github",
        "colab_type": "text"
      },
      "source": [
        "<a href=\"https://colab.research.google.com/github/ahlraf/307-assn2/blob/main/10000_trials.ipynb\" target=\"_parent\"><img src=\"https://colab.research.google.com/assets/colab-badge.svg\" alt=\"Open In Colab\"/></a>"
      ]
    },
    {
      "cell_type": "markdown",
      "id": "6d8c69b2",
      "metadata": {
        "id": "6d8c69b2"
      },
      "source": [
        "## Test 5"
      ]
    },
    {
      "cell_type": "markdown",
      "id": "17f18934",
      "metadata": {
        "id": "17f18934"
      },
      "source": [
        "Number of trials = 10,000<br>\n",
        "L = 32, 64 or 128<br>\n",
        "p varies from 0.4 to 0.8 in steps of 0.02"
      ]
    },
    {
      "cell_type": "code",
      "execution_count": null,
      "id": "fef2f62f",
      "metadata": {
        "id": "fef2f62f"
      },
      "outputs": [],
      "source": [
        "import numpy as np\n",
        "import matplotlib.pyplot as plt\n",
        "import matplotlib\n",
        "import random\n",
        "import os\n",
        "import time\n",
        "import pandas as pd"
      ]
    },
    {
      "cell_type": "code",
      "execution_count": null,
      "id": "063e99f6",
      "metadata": {
        "id": "063e99f6"
      },
      "outputs": [],
      "source": [
        "np.set_printoptions(threshold=np.inf, linewidth=np.inf)  # for printing 32x32 lattice"
      ]
    },
    {
      "cell_type": "markdown",
      "id": "36d6ab62",
      "metadata": {
        "id": "36d6ab62"
      },
      "source": [
        "## Implementation of Hoshen-Kopelman algorithm"
      ]
    },
    {
      "cell_type": "code",
      "execution_count": null,
      "id": "24d38ec1",
      "metadata": {
        "id": "24d38ec1"
      },
      "outputs": [],
      "source": [
        "class Lattice():\n",
        "\n",
        "    def __init__(self, L, p, n_trials):\n",
        "        \n",
        "        self.L = L  # lattice size\n",
        "        self.n_trials = n_trials  # number of trials\n",
        "        self.p = p  # probability\n",
        "        \n",
        "        self.current_step = 0\n",
        "        self.N = self.L*self.L\n",
        "        self.lattice = np.zeros((self.L, self.L), dtype=int)\n",
        "        self.clusters = np.zeros(self.N)\n",
        "        self.nonzero_clusters = []\n",
        "        self.average_cluster = 0\n",
        "        self.max_average_cluster = 0\n",
        "        self.monte_carlo_step()\n",
        "\n",
        "\n",
        "    def next_neighbour(self, i):\n",
        "        if i<(self.L-1):\n",
        "            nn = i + 1\n",
        "        else:\n",
        "            nn = i\n",
        "        return nn\n",
        "\n",
        "\n",
        "    def previous_neighbour(self, i):\n",
        "        if i>0:\n",
        "            pn = i-1\n",
        "        else:\n",
        "            pn = i\n",
        "        return pn\n",
        "\n",
        "\n",
        "    def top_neighbour(self, i, j):\n",
        "        if i>0:\n",
        "            tn = self.lattice[i-1][j]\n",
        "        else:\n",
        "            tn = 0\n",
        "        return tn\n",
        "\n",
        "\n",
        "    def left_neighbour(self, i, j):\n",
        "        if j>0:\n",
        "            ln = self.lattice[i][j-1]\n",
        "        else:\n",
        "            ln = 0\n",
        "        return ln\n",
        "\n",
        "\n",
        "    def monte_carlo_step(self):\n",
        "        for i in range(self.L):\n",
        "            for j in range(self.L):\n",
        "                z = random.uniform(0, 1)\n",
        "                if z < self.p:\n",
        "                    self.lattice[i][j] = 1\n",
        "                else:\n",
        "                    self.lattice[i][j] = 0"
      ]
    },
    {
      "cell_type": "code",
      "execution_count": null,
      "id": "3bc62a5c",
      "metadata": {
        "id": "3bc62a5c"
      },
      "outputs": [],
      "source": [
        "class Hoshen_Kopelman_Percolation(Lattice):\n",
        "\n",
        "    def __init__(self, L, p, n_trials):\n",
        "         super().__init__(L, p, n_trials)\n",
        "\n",
        "\n",
        "    def HK_algorithm(self):\n",
        "        \n",
        "        # initial parameter for the Hoshen–Kopelman algorithm\n",
        "        k = 2\n",
        "        \n",
        "        for i in range(self.L):\n",
        "            for j in range(self.L):\n",
        "                if self.lattice[i][j] == 1:\n",
        "                    tn = self.top_neighbour(i, j)\n",
        "                    ln = self.left_neighbour(i, j)\n",
        "                    \n",
        "                    if tn == 0 and ln == 0:\n",
        "                        self.lattice[i][j] = k\n",
        "                        self.clusters[k] = 1\n",
        "                        k += 1\n",
        "                        \n",
        "                    elif tn==0 and ln!=0:\n",
        "                        self.lattice[i][j] = ln\n",
        "                        self.clusters[ln] += 1\n",
        "                        \n",
        "                    elif tn!=0 and ln==0:\n",
        "                        self.lattice[i][j] = tn\n",
        "                        self.clusters[tn] += 1\n",
        "                        \n",
        "                    elif tn!=0 and ln!=0 and tn==ln:\n",
        "                        self.lattice[i][j] = tn\n",
        "                        self.clusters[tn] += 1\n",
        "                        \n",
        "                    else:\n",
        "                        self.lattice[i][j] = ln\n",
        "                        self.clusters[ln] = self.clusters[ln] + self.clusters[tn] + 1\n",
        "                        self.clusters[tn] = 0\n",
        "\n",
        "\n",
        "\n",
        "    def HK_simulate(self):\n",
        "\n",
        "        while self.current_step < self.n_trials:\n",
        "            self.monte_carlo_step()\n",
        "\n",
        "            for i in range(len(self.clusters)):\n",
        "                self.clusters[i] = 0\n",
        "\n",
        "            self.HK_algorithm()\n",
        "            self.nonzero_clusters = self.clusters[self.clusters!=0]\n",
        "\n",
        "            if len(self.nonzero_clusters) != 0:\n",
        "                self.average_cluster += sum(self.nonzero_clusters)/len(self.nonzero_clusters)\n",
        "                self.max_average_cluster += max(self.nonzero_clusters)\n",
        "\n",
        "            self.current_step += 1\n",
        "\n",
        "        self.max_average_cluster = self.max_average_cluster/self.n_trials\n",
        "        self.average_cluster = self.average_cluster/self.n_trials"
      ]
    },
    {
      "cell_type": "code",
      "execution_count": null,
      "id": "24a4907f",
      "metadata": {
        "id": "24a4907f"
      },
      "outputs": [],
      "source": [
        "def hoshen_kopelman(L, n_trials, p_init, p_final, delta_p, p_list, mac_list, ac_list):\n",
        "    # L = lattice size\n",
        "    \n",
        "    # p varies from p_init to p_final in steps of delta_p\n",
        "    p = p_init  # initialization\n",
        "    \n",
        "    while p < p_final:\n",
        "        lattice = Hoshen_Kopelman_Percolation(L, p, n_trials)\n",
        "        lattice.HK_simulate()\n",
        "        p_list.append(round(p, 3))\n",
        "        mac_list.append(lattice.max_average_cluster)\n",
        "        ac_list.append(lattice.average_cluster)\n",
        "        p += delta_p  "
      ]
    },
    {
      "cell_type": "markdown",
      "id": "eca9dd99",
      "metadata": {
        "id": "eca9dd99"
      },
      "source": [
        "### Plotting functions"
      ]
    },
    {
      "cell_type": "code",
      "execution_count": null,
      "id": "6c8d68ce",
      "metadata": {
        "id": "6c8d68ce"
      },
      "outputs": [],
      "source": [
        "def plot_max_cluster(L, n_trials, p_list, mac_list, ac_list):\n",
        "    axes = plt.gca()\n",
        "    axes.set_xlim([0,1])\n",
        "\n",
        "    plt.scatter(p_list, mac_list,label=f\"L={L}, # trials={n_trials}\")\n",
        "    \n",
        "    plt.legend()\n",
        "    plt.xlabel('p')\n",
        "    plt.ylabel('Average size of maximum cluster')\n",
        "    plt.grid(linewidth=0.5)\n",
        "    plt.savefig('plot_maximum_cluster.png')"
      ]
    },
    {
      "cell_type": "code",
      "execution_count": null,
      "id": "7bf31a40",
      "metadata": {
        "id": "7bf31a40"
      },
      "outputs": [],
      "source": [
        "def plot_average_cluster(L, n_trials, p_list, mac_list, ac_list):\n",
        "    axes = plt.gca()\n",
        "    axes.set_xlim([0,1])\n",
        "\n",
        "    plt.scatter(p_list, ac_list,label=f\"L={L}, # trials={n_trials}\")\n",
        "\n",
        "    plt.legend()\n",
        "    plt.xlabel('p')\n",
        "    plt.ylabel('Average size of average cluster')\n",
        "    plt.grid(linewidth=0.5)\n",
        "    plt.savefig('plot_average_cluster.png')"
      ]
    },
    {
      "cell_type": "code",
      "execution_count": null,
      "id": "3b464edf",
      "metadata": {
        "id": "3b464edf"
      },
      "outputs": [],
      "source": [
        "n_trials = 10000"
      ]
    },
    {
      "cell_type": "markdown",
      "id": "a43ac6c0",
      "metadata": {
        "id": "a43ac6c0"
      },
      "source": [
        "<hr>"
      ]
    },
    {
      "cell_type": "markdown",
      "id": "c4046404",
      "metadata": {
        "id": "c4046404"
      },
      "source": [
        "### L = 32"
      ]
    },
    {
      "cell_type": "markdown",
      "id": "56300003",
      "metadata": {
        "id": "56300003"
      },
      "source": [
        " ### Cluster configuration*** (part (a)))"
      ]
    },
    {
      "cell_type": "code",
      "execution_count": null,
      "id": "6a3f1c5d",
      "metadata": {
        "id": "6a3f1c5d",
        "outputId": "3ee3c283-0ae6-45d4-a168-c4d7fb8b2729"
      },
      "outputs": [
        {
          "name": "stdout",
          "output_type": "stream",
          "text": [
            "Initial lattice\n",
            "\n",
            "[[0 1 0 0 1 0 0 1 0 1 1 1 1 0 1 1 1 0 1 0 0 0 1 1 1 1 0 0 1 1 0 0]\n",
            " [1 0 1 0 1 0 0 1 0 1 1 0 0 1 0 1 0 1 1 0 1 0 1 1 0 1 0 0 0 0 1 1]\n",
            " [1 1 0 1 1 1 0 0 0 0 1 0 0 0 1 0 1 1 0 0 0 1 0 1 0 0 1 0 0 0 0 0]\n",
            " [1 0 1 1 1 0 0 1 0 0 1 1 1 1 0 1 0 1 1 0 0 1 0 0 0 1 1 0 0 0 1 0]\n",
            " [1 0 0 0 0 0 1 0 1 1 0 0 1 1 0 1 1 1 1 0 1 0 1 1 1 1 0 0 1 1 0 1]\n",
            " [1 0 1 0 0 1 0 1 1 0 0 0 1 0 1 0 0 0 0 0 1 1 1 0 1 0 0 0 1 1 0 0]\n",
            " [1 0 1 1 0 1 0 0 0 1 1 0 1 1 0 0 0 0 1 1 1 1 0 1 0 1 1 1 0 1 0 0]\n",
            " [0 1 0 1 1 0 0 1 0 1 0 1 0 1 1 0 1 1 0 0 0 0 0 0 1 0 0 0 1 1 1 1]\n",
            " [0 0 0 0 0 1 0 0 1 0 1 1 1 0 1 1 0 0 0 0 1 1 1 0 1 1 1 0 0 0 1 0]\n",
            " [1 0 0 0 0 0 1 0 0 0 1 0 1 1 0 0 1 1 0 0 0 0 1 0 0 1 0 1 1 0 0 0]\n",
            " [0 0 1 0 0 1 0 0 1 1 0 1 0 0 1 1 1 1 0 0 0 0 1 1 1 0 0 0 0 0 1 0]\n",
            " [1 0 0 1 0 0 0 0 1 0 1 0 1 0 1 0 0 1 0 1 1 1 0 1 1 1 1 0 1 1 0 1]\n",
            " [0 0 0 1 0 0 1 0 0 0 1 1 1 0 1 0 0 1 1 0 1 0 1 0 0 1 1 1 0 0 1 1]\n",
            " [0 1 0 0 0 1 1 0 0 0 1 0 0 0 1 0 0 0 0 0 0 0 0 1 1 0 0 0 0 1 0 1]\n",
            " [1 0 1 1 0 0 0 1 0 1 1 0 0 1 1 1 0 0 1 0 0 0 0 0 0 0 1 0 1 1 0 1]\n",
            " [0 1 1 1 0 0 0 1 1 0 0 0 0 1 0 0 1 0 0 1 0 0 0 0 0 1 0 1 0 1 0 1]\n",
            " [0 1 1 0 0 1 0 0 1 0 0 1 1 1 1 1 1 1 0 1 1 1 0 1 0 1 0 0 1 0 0 0]\n",
            " [1 0 1 1 1 0 0 0 1 0 0 0 1 0 0 0 0 1 0 0 0 1 0 1 1 0 0 1 0 1 0 1]\n",
            " [1 0 0 1 0 0 0 0 1 1 0 0 0 1 0 1 1 1 0 0 0 0 0 0 1 1 0 0 0 0 0 0]\n",
            " [0 0 1 0 1 0 1 1 1 0 1 0 0 0 0 0 0 0 0 0 0 0 0 0 1 1 1 0 0 0 0 0]\n",
            " [1 0 0 0 0 0 0 1 0 1 0 1 1 0 1 0 0 0 1 1 1 1 0 0 1 1 0 0 1 1 1 1]\n",
            " [1 0 0 0 0 0 0 1 0 0 1 1 1 1 0 0 0 0 0 0 1 0 1 0 0 0 0 1 1 1 1 0]\n",
            " [1 0 1 0 0 0 1 1 1 1 1 1 0 0 0 0 0 1 0 0 1 1 0 1 0 0 0 0 0 0 1 1]\n",
            " [0 0 0 1 0 1 1 0 0 1 1 1 1 0 0 1 1 1 1 0 1 1 1 1 0 1 1 0 0 0 0 1]\n",
            " [1 0 0 0 0 1 0 1 1 1 1 0 1 0 0 0 1 1 0 0 0 1 0 0 0 0 1 0 1 1 1 1]\n",
            " [0 0 0 1 1 1 1 1 0 0 0 0 1 0 0 1 0 1 0 1 1 1 0 1 1 0 0 1 0 1 0 1]\n",
            " [1 0 0 1 0 1 1 1 1 1 0 1 0 0 0 0 1 1 0 1 0 1 0 1 1 0 1 0 1 0 0 0]\n",
            " [0 1 0 1 0 0 0 0 0 0 0 1 0 1 0 1 0 1 0 1 1 1 1 1 0 1 1 0 1 0 1 1]\n",
            " [1 1 0 0 0 0 1 1 0 0 0 1 1 0 0 0 1 0 1 1 0 1 0 1 1 0 0 1 0 1 0 0]\n",
            " [1 0 1 0 1 0 0 1 0 0 0 0 1 1 0 1 0 1 0 1 0 1 0 0 1 1 1 0 0 0 1 0]\n",
            " [0 0 1 0 1 0 1 1 1 1 0 0 0 1 1 0 0 0 0 1 0 1 0 0 1 0 1 0 1 1 0 1]\n",
            " [0 1 0 0 1 0 0 1 1 1 0 1 1 0 0 1 0 1 1 1 0 0 0 1 0 0 0 0 0 1 0 0]]\n",
            "\n",
            "Clusters by Hoshen-Kopelman algorithm\n",
            "\n",
            "[[  2   0   0   3   3   0   0   4   0   0   5   5   5   0   0   0   0   0   6   0   7   0   0   0   0   8   0   9   0  10  10   0]\n",
            " [  0   0  11   0   0  12   0   4   4   0   0   5   5   0   0   0  13   0   6   6   0   0   0  14  14  14  14   0   0  10   0  15]\n",
            " [  0  16  16   0   0  12   0   0   0   0  17   0   0  18   0   0   0   0   0   6   0  19   0   0   0   0   0   0   0  10  10   0]\n",
            " [  0   0  16   0  20  20   0  21  21   0  17   0   0   0   0  22   0  23  23   0  24   0   0  25   0  26   0   0  27   0  10   0]\n",
            " [ 28  28  28  28  28  28   0   0   0  29   0   0   0  30  30   0  31  31   0  32   0  33   0   0  34   0   0  35   0  36   0   0]\n",
            " [  0  28   0   0   0   0   0   0   0  29   0  37  37   0   0  38   0   0  39   0   0  33  33   0   0   0  40   0   0   0   0  41]\n",
            " [  0  28  28  28  28   0  42   0  43  43  43   0  37   0  44  44   0   0   0   0   0   0   0  45  45   0  40  40  40   0  46   0]\n",
            " [  0   0   0  28   0  47  47   0  43   0   0   0  37  37   0   0   0   0  48   0   0   0   0   0   0  49   0  40   0  50   0   0]\n",
            " [  0   0  51   0  52   0   0   0   0  53   0   0   0   0   0  54   0  55  55   0  56   0   0  57   0   0  58   0  59  59   0  60]\n",
            " [ 61   0   0  62  62   0   0   0  63  63   0  64   0   0   0   0   0  55   0   0  56   0   0  57  57   0   0   0   0  59  59   0]\n",
            " [ 61  61   0  62  62   0  65  65  65  65   0  64   0  66   0  67  67  67   0   0  56   0  68  68   0  69   0   0   0   0   0   0]\n",
            " [ 61  61   0  62  62  62   0   0   0  65   0  64  64   0   0   0   0   0   0   0   0   0  68   0  70  70   0   0  71  71  71   0]\n",
            " [ 61  61   0   0   0   0   0  72  72  72  72   0   0   0  73   0  74   0   0  75  75   0   0  76   0   0   0   0  71   0   0   0]\n",
            " [  0   0   0  77  77  77   0   0   0   0  72  72  72   0   0  78  78   0   0  75  75  75  75  75  75   0   0   0   0  79   0   0]\n",
            " [ 80  80   0  77   0   0  81   0   0  82   0   0   0  83   0   0   0   0   0  75   0  75   0   0  75   0   0   0   0  79   0  84]\n",
            " [  0   0   0  77  77   0  81  81  81   0  85   0   0   0   0  86  86  86   0   0   0   0  87   0   0  88   0   0  89   0  90   0]\n",
            " [ 91   0   0  77  77  77  77  77  77  77   0   0  92  92   0   0  86  86  86  86   0   0  87  87   0  88   0   0  89  89   0  93]\n",
            " [  0  94   0  77  77  77  77  77   0   0  95   0  92  92  92  92   0   0  86   0   0   0  87  87   0   0   0   0  89   0  96   0]\n",
            " [  0   0   0  77   0   0   0   0   0   0  95  95  95  95  95  95  95   0  86   0   0  97   0   0   0  98   0  99   0 100 100   0]\n",
            " [101   0 102 102 102   0   0 103   0   0   0   0  95  95  95  95  95   0  86  86  86  86   0   0 104 104 104 104   0 100 100   0]\n",
            " [  0   0 102   0   0 105   0 103   0   0 106 106   0   0   0   0  95   0   0   0  86  86   0   0   0 104 104   0   0   0   0   0]\n",
            " [107   0   0 108   0   0   0 103   0   0   0 106   0 109 109   0   0   0   0 110   0   0 111 111   0 104 104   0 112   0   0   0]\n",
            " [107   0   0   0   0 113   0   0 114 114 114   0   0 109   0   0 115   0   0   0   0 116 116   0 117 117 117 117 117   0   0   0]\n",
            " [107 107   0 118   0   0 119 119   0   0 114   0   0 109 109 109   0 120 120 120 120 120   0 121 121   0 117   0   0   0   0 122]\n",
            " [107 107   0 118   0 123   0   0   0   0   0 124   0 109   0   0 125 125 125   0 120   0   0 121   0   0 117   0 126 126 126 126]\n",
            " [  0 107 107 107   0 123   0 127 127 127   0 124   0   0 128   0   0 125   0 129 129   0   0 121   0 130   0   0 126   0   0   0]\n",
            " [131   0   0   0 132 132   0 127   0 127   0   0   0 133   0 134 134 134   0   0 129 129 129 129 129 129 129 129   0   0 135   0]\n",
            " [  0 136   0   0 132 132   0   0   0   0 137 137   0 133 133   0   0 134 134 134 134   0   0   0 129   0   0 129 129   0 135   0]\n",
            " [  0   0   0   0   0   0 138 138   0   0 137 137 137   0 133   0   0   0   0   0 134   0   0   0   0 139   0 129 129   0   0 140]\n",
            " [  0   0   0 141   0 142 142   0 143 143 143   0 137 137   0 144 144   0   0   0   0   0   0   0   0 139   0   0 129 129   0   0]\n",
            " [145   0 146 146   0 142   0   0   0   0 143   0   0   0 147 147   0   0   0   0 148 148   0 149   0 139   0 150   0   0 151   0]\n",
            " [  0   0   0 146 146   0 152 152   0   0   0   0 153 153   0 147 147 147 147 147 147   0 154 154   0   0 155   0   0 156   0 157]]\n"
          ]
        }
      ],
      "source": [
        "# lattice configuration\n",
        "p = 0.42  # arbitrary\n",
        "\n",
        "print(\"Initial lattice\\n\")\n",
        "lattice = Hoshen_Kopelman_Percolation(32, p, n_trials)\n",
        "print(lattice.lattice)\n",
        "\n",
        "print(\"\\nClusters by Hoshen-Kopelman algorithm\\n\")\n",
        "lattice.HK_simulate()\n",
        "print(lattice.lattice)"
      ]
    },
    {
      "cell_type": "markdown",
      "id": "dda43574",
      "metadata": {
        "id": "dda43574"
      },
      "source": [
        "***Average cluster size***"
      ]
    },
    {
      "cell_type": "code",
      "execution_count": null,
      "id": "1d09d76a",
      "metadata": {
        "scrolled": false,
        "id": "1d09d76a",
        "outputId": "d3a02913-47d7-4de1-d4ae-6f4f15f58037"
      },
      "outputs": [
        {
          "name": "stdout",
          "output_type": "stream",
          "text": [
            "    Probability  Avg size of max cluster  Avg size of avg cluster\n",
            "0          0.40                   28.945                 3.446668\n",
            "1          0.42                   34.294                 3.821089\n",
            "2          0.44                   39.387                 4.253943\n",
            "3          0.46                   46.264                 4.745727\n",
            "4          0.48                   55.481                 5.329248\n",
            "5          0.50                   65.790                 6.057744\n",
            "6          0.52                   77.928                 6.961963\n",
            "7          0.54                   93.185                 7.980469\n",
            "8          0.56                  115.142                 9.350662\n",
            "9          0.58                  137.263                10.952377\n",
            "10         0.60                  170.704                12.962553\n",
            "11         0.62                  203.612                15.521652\n",
            "12         0.64                  250.031                18.833129\n",
            "13         0.66                  299.246                22.805359\n",
            "14         0.68                  358.208                28.666319\n",
            "15         0.70                  420.907                35.933967\n",
            "16         0.72                  487.527                45.884203\n",
            "17         0.74                  552.044                58.487928\n",
            "18         0.76                  610.128                76.317640\n",
            "19         0.78                  677.347                99.114711\n",
            "20         0.80                  722.830               133.544600\n"
          ]
        }
      ],
      "source": [
        "p32, mac32, ac32 = [], [], []\n",
        "hoshen_kopelman(32, 1000, 0.4, 0.82, 0.02, p32, mac32, ac32)\n",
        "\n",
        "df32 = pd.DataFrame()\n",
        "df32[\"Probability\"] = p32\n",
        "df32[\"Avg size of max cluster\"] = mac32\n",
        "df32[\"Avg size of avg cluster\"] = ac32\n",
        "\n",
        "print(df32)"
      ]
    },
    {
      "cell_type": "markdown",
      "id": "371d0565",
      "metadata": {
        "id": "371d0565"
      },
      "source": [
        "***Plotting average size of maximum cluster against p for L = 32***"
      ]
    },
    {
      "cell_type": "code",
      "execution_count": null,
      "id": "800ab0ce",
      "metadata": {
        "scrolled": true,
        "id": "800ab0ce",
        "outputId": "6f5c1c12-3428-43ad-d792-ddf8ebe5220e"
      },
      "outputs": [
        {
          "data": {
            "image/png": "[encoded data removed]",
            "text/plain": [
              "<Figure size 432x288 with 1 Axes>"
            ]
          },
          "metadata": {
            "needs_background": "light"
          },
          "output_type": "display_data"
        }
      ],
      "source": [
        "plot_max_cluster(32, n_trials, p32, mac32, ac32)"
      ]
    },
    {
      "cell_type": "markdown",
      "id": "7c8fa3f9",
      "metadata": {
        "id": "7c8fa3f9"
      },
      "source": [
        "***Plotting average size of average cluster against p for L = 32***"
      ]
    },
    {
      "cell_type": "code",
      "execution_count": null,
      "id": "5f9ea764",
      "metadata": {
        "id": "5f9ea764",
        "outputId": "c7db45c3-77f3-4ae7-d3d6-afa6b5a91bde"
      },
      "outputs": [
        {
          "data": {
            "image/png": "[encoded data removed]",
            "text/plain": [
              "<Figure size 432x288 with 1 Axes>"
            ]
          },
          "metadata": {
            "needs_background": "light"
          },
          "output_type": "display_data"
        }
      ],
      "source": [
        "plot_average_cluster(32, n_trials, p32, mac32, ac32)"
      ]
    },
    {
      "cell_type": "markdown",
      "id": "e44f6df4",
      "metadata": {
        "id": "e44f6df4"
      },
      "source": [
        "<hr>"
      ]
    },
    {
      "cell_type": "markdown",
      "id": "b544071f",
      "metadata": {
        "id": "b544071f"
      },
      "source": [
        "### L = 64"
      ]
    },
    {
      "cell_type": "markdown",
      "id": "ff8548d2",
      "metadata": {
        "id": "ff8548d2"
      },
      "source": [
        "***Average cluster size***"
      ]
    },
    {
      "cell_type": "code",
      "execution_count": null,
      "id": "ddd1ca94",
      "metadata": {
        "id": "ddd1ca94",
        "outputId": "99aea20d-2261-4c5c-fd66-281071a237ee"
      },
      "outputs": [
        {
          "name": "stdout",
          "output_type": "stream",
          "text": [
            "    Probability  Avg size of max cluster  Avg size of avg cluster\n",
            "0          0.40                   41.494                 3.558404\n",
            "1          0.42                   48.874                 3.955212\n",
            "2          0.44                   58.580                 4.401286\n",
            "3          0.46                   69.620                 4.949462\n",
            "4          0.48                   83.690                 5.624621\n",
            "5          0.50                  101.318                 6.397621\n",
            "6          0.52                  124.015                 7.365187\n",
            "7          0.54                  156.840                 8.532710\n",
            "8          0.56                  196.297                10.044568\n",
            "9          0.58                  246.868                11.932192\n",
            "10         0.60                  323.004                14.250548\n",
            "11         0.62                  415.603                17.434449\n",
            "12         0.64                  542.127                21.301339\n",
            "13         0.66                  699.678                26.660395\n",
            "14         0.68                  926.025                33.961100\n",
            "15         0.70                 1174.777                43.008418\n",
            "16         0.72                 1477.283                55.587229\n",
            "17         0.74                 1798.351                74.392085\n",
            "18         0.76                 2137.294                99.529793\n",
            "19         0.78                 2426.175               136.152069\n",
            "20         0.80                 2701.470               189.495145\n"
          ]
        }
      ],
      "source": [
        "p64, mac64, ac64 = [], [], []\n",
        "hoshen_kopelman(64, 1000, 0.4, 0.82, 0.02, p64, mac64, ac64)\n",
        "\n",
        "df64 = pd.DataFrame()\n",
        "df64[\"Probability\"] = p64\n",
        "df64[\"Avg size of max cluster\"] = mac64\n",
        "df64[\"Avg size of avg cluster\"] = ac64\n",
        "\n",
        "print(df64)"
      ]
    },
    {
      "cell_type": "markdown",
      "id": "15d2145e",
      "metadata": {
        "id": "15d2145e"
      },
      "source": [
        "***Plotting average size of maximum cluster against p for L = 64***"
      ]
    },
    {
      "cell_type": "code",
      "execution_count": null,
      "id": "26140c5a",
      "metadata": {
        "scrolled": true,
        "id": "26140c5a",
        "outputId": "07dc7779-7609-4a78-d3bd-a2dda529025a"
      },
      "outputs": [
        {
          "data": {
            "image/png": "[encoded data removed]",
            "text/plain": [
              "<Figure size 432x288 with 1 Axes>"
            ]
          },
          "metadata": {
            "needs_background": "light"
          },
          "output_type": "display_data"
        }
      ],
      "source": [
        "plot_max_cluster(64, n_trials, p64, mac64, ac64)"
      ]
    },
    {
      "cell_type": "markdown",
      "id": "407dd3b7",
      "metadata": {
        "id": "407dd3b7"
      },
      "source": [
        "***Plotting average size of average cluster against p for L = 64***"
      ]
    },
    {
      "cell_type": "code",
      "execution_count": null,
      "id": "b00655b2",
      "metadata": {
        "id": "b00655b2",
        "outputId": "6eb94cbb-6b10-4025-e0d4-0e78acf005ca"
      },
      "outputs": [
        {
          "data": {
            "image/png": "[encoded data removed]",
            "text/plain": [
              "<Figure size 432x288 with 1 Axes>"
            ]
          },
          "metadata": {
            "needs_background": "light"
          },
          "output_type": "display_data"
        }
      ],
      "source": [
        "plot_average_cluster(64, n_trials, p64, mac64, ac64)"
      ]
    },
    {
      "cell_type": "markdown",
      "id": "dddd25e5",
      "metadata": {
        "id": "dddd25e5"
      },
      "source": [
        "<hr>"
      ]
    },
    {
      "cell_type": "markdown",
      "id": "65f38921",
      "metadata": {
        "id": "65f38921"
      },
      "source": [
        "### L = 128"
      ]
    },
    {
      "cell_type": "markdown",
      "id": "588801e4",
      "metadata": {
        "id": "588801e4"
      },
      "source": [
        "***Average cluster size***"
      ]
    },
    {
      "cell_type": "code",
      "execution_count": null,
      "id": "63b7beac",
      "metadata": {
        "scrolled": false,
        "id": "63b7beac",
        "outputId": "839517a9-c2f4-4bdf-b2f9-aaf073fbb502"
      },
      "outputs": [
        {
          "name": "stdout",
          "output_type": "stream",
          "text": [
            "    Probability  Avg size of max cluster  Avg size of avg cluster\n",
            "0          0.40                   54.174                 3.611533\n",
            "1          0.42                   64.694                 4.024053\n",
            "2          0.44                   77.513                 4.500073\n",
            "3          0.46                   93.048                 5.061561\n",
            "4          0.48                  116.128                 5.764664\n",
            "5          0.50                  141.407                 6.594115\n",
            "6          0.52                  176.740                 7.627029\n",
            "7          0.54                  226.670                 8.888311\n",
            "8          0.56                  292.095                10.491866\n",
            "9          0.58                  382.999                12.544660\n",
            "10         0.60                  503.729                15.108538\n",
            "11         0.62                  697.191                18.477487\n",
            "12         0.64                  955.877                23.007193\n",
            "13         0.66                 1337.891                29.019538\n",
            "14         0.68                 1873.633                37.055074\n",
            "15         0.70                 2665.546                48.237910\n",
            "16         0.72                 3793.439                63.998401\n",
            "17         0.74                 5249.764                86.491540\n",
            "18         0.76                 6633.209               118.941979\n",
            "19         0.78                 8331.574               167.850623\n",
            "20         0.80                 9526.736               242.433274\n"
          ]
        }
      ],
      "source": [
        "p128, mac128, ac128 = [], [], []\n",
        "hoshen_kopelman(128, 1000, 0.4, 0.82, 0.02, p128, mac128, ac128)\n",
        "\n",
        "df128 = pd.DataFrame()\n",
        "df128[\"Probability\"] = p128\n",
        "df128[\"Avg size of max cluster\"] = mac128\n",
        "df128[\"Avg size of avg cluster\"] = ac128\n",
        "\n",
        "print(df128)"
      ]
    },
    {
      "cell_type": "markdown",
      "id": "4590017a",
      "metadata": {
        "id": "4590017a"
      },
      "source": [
        "***Plotting average size of maximum cluster against p for L = 128***"
      ]
    },
    {
      "cell_type": "code",
      "execution_count": null,
      "id": "8174467c",
      "metadata": {
        "scrolled": true,
        "id": "8174467c",
        "outputId": "a4a62e8c-c78f-41ad-a6e9-d1877e5ac9d7"
      },
      "outputs": [
        {
          "data": {
            "image/png": "[encoded data removed]",
            "text/plain": [
              "<Figure size 432x288 with 1 Axes>"
            ]
          },
          "metadata": {
            "needs_background": "light"
          },
          "output_type": "display_data"
        }
      ],
      "source": [
        "plot_max_cluster(128, n_trials, p128, mac128, ac128)"
      ]
    },
    {
      "cell_type": "markdown",
      "id": "4c9024a1",
      "metadata": {
        "id": "4c9024a1"
      },
      "source": [
        "***Plotting average size of average cluster against p for L = 128***"
      ]
    },
    {
      "cell_type": "code",
      "execution_count": null,
      "id": "7b574dc7",
      "metadata": {
        "id": "7b574dc7",
        "outputId": "16e8df71-f862-42f1-e47f-3b741493fae9"
      },
      "outputs": [
        {
          "data": {
            "image/png": "[encoded data removed]",
            "text/plain": [
              "<Figure size 432x288 with 1 Axes>"
            ]
          },
          "metadata": {
            "needs_background": "light"
          },
          "output_type": "display_data"
        }
      ],
      "source": [
        "plot_average_cluster(128, n_trials, p128, mac128, ac128)"
      ]
    },
    {
      "cell_type": "markdown",
      "id": "fb0aad93",
      "metadata": {
        "id": "fb0aad93"
      },
      "source": [
        "<hr>"
      ]
    },
    {
      "cell_type": "markdown",
      "id": "53e771f7",
      "metadata": {
        "id": "53e771f7"
      },
      "source": [
        "### Combined plots (part (b))"
      ]
    },
    {
      "cell_type": "markdown",
      "id": "1b97dad2",
      "metadata": {
        "id": "1b97dad2"
      },
      "source": [
        "***Plotting average size of maximum cluster against p for L = 32, 64, 128***"
      ]
    },
    {
      "cell_type": "code",
      "execution_count": null,
      "id": "208868e3",
      "metadata": {
        "scrolled": true,
        "id": "208868e3",
        "outputId": "a749eb12-c1ce-4576-89c3-a74e4c15f71d"
      },
      "outputs": [
        {
          "data": {
            "image/png": "[encoded data removed]",
            "text/plain": [
              "<Figure size 432x288 with 1 Axes>"
            ]
          },
          "metadata": {
            "needs_background": "light"
          },
          "output_type": "display_data"
        }
      ],
      "source": [
        "plot_max_cluster(32, n_trials, p32, mac32, ac32)\n",
        "plot_max_cluster(64, n_trials, p64, mac64, ac64)\n",
        "plot_max_cluster(128, n_trials, p128, mac128, ac128)"
      ]
    },
    {
      "cell_type": "markdown",
      "id": "2a12b47d",
      "metadata": {
        "id": "2a12b47d"
      },
      "source": [
        "***Plotting average size of average cluster against p for L = 32, 64, 128***"
      ]
    },
    {
      "cell_type": "code",
      "execution_count": null,
      "id": "415be544",
      "metadata": {
        "id": "415be544",
        "outputId": "e34d0394-3eb7-433e-af26-56a353c8970e"
      },
      "outputs": [
        {
          "data": {
            "image/png": "[encoded data removed]",
            "text/plain": [
              "<Figure size 432x288 with 1 Axes>"
            ]
          },
          "metadata": {
            "needs_background": "light"
          },
          "output_type": "display_data"
        }
      ],
      "source": [
        "plot_average_cluster(32, n_trials, p32, mac32, ac32)\n",
        "plot_average_cluster(64, n_trials, p64, mac64, ac64)\n",
        "plot_average_cluster(128, n_trials, p128, mac128, ac128)"
      ]
    }
  ],
  "metadata": {
    "kernelspec": {
      "display_name": "Python 3",
      "language": "python",
      "name": "python3"
    },
    "language_info": {
      "codemirror_mode": {
        "name": "ipython",
        "version": 3
      },
      "file_extension": ".py",
      "mimetype": "text/x-python",
      "name": "python",
      "nbconvert_exporter": "python",
      "pygments_lexer": "ipython3",
      "version": "3.8.5"
    },
    "colab": {
      "provenance": [],
      "include_colab_link": true
    }
  },
  "nbformat": 4,
  "nbformat_minor": 5
}